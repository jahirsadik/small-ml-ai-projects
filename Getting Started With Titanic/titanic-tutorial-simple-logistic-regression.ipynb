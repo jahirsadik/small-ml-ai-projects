{
 "metadata": {
  "kernelspec": {
   "language": "python",
   "display_name": "Python 3",
   "name": "python3"
  },
  "language_info": {
   "name": "python",
   "version": "3.7.12",
   "mimetype": "text/x-python",
   "codemirror_mode": {
    "name": "ipython",
    "version": 3
   },
   "pygments_lexer": "ipython3",
   "nbconvert_exporter": "python",
   "file_extension": ".py"
  }
 },
 "nbformat_minor": 4,
 "nbformat": 4,
 "cells": [
  {
   "cell_type": "markdown",
   "source": [
    "# Titanic challenge: simple logistic regression model \n",
    "This notebook shows how to solve the Titanic challenge with a simple logistic regression model. The notebook is divided in three parts:\n",
    "- Data exploration\n",
    "- Feature engineering\n",
    "- Classification: logistic regression\n",
    "\n",
    "The goal is to predict the survival or the death of a given passenger based on a set of available variables. Having more features (in this case, using more variables) is not always advantageous, quite the opposite! Especially in logistic regression, we aim at the simpler model that can explain the data. "
   ],
   "metadata": {}
  },
  {
   "cell_type": "code",
   "source": [
    "# import libraries\n",
    "import pandas as pd\n",
    "from matplotlib import pyplot as plt\n",
    "import numpy as np\n",
    "import seaborn as sns\n",
    "import sklearn"
   ],
   "metadata": {
    "execution": {
     "iopub.status.busy": "2023-01-29T22:44:55.098646Z",
     "iopub.execute_input": "2023-01-29T22:44:55.099535Z",
     "iopub.status.idle": "2023-01-29T22:44:56.215062Z",
     "shell.execute_reply.started": "2023-01-29T22:44:55.099424Z",
     "shell.execute_reply": "2023-01-29T22:44:56.214109Z"
    },
    "trusted": true
   },
   "execution_count": 1,
   "outputs": []
  },
  {
   "cell_type": "code",
   "source": [
    "# load data\n",
    "train_data = pd.read_csv('../input/titanic/train.csv')\n",
    "\n",
    "test_data = pd.read_csv('../input/titanic/test.csv')"
   ],
   "metadata": {
    "execution": {
     "iopub.status.busy": "2023-01-29T22:44:56.216743Z",
     "iopub.execute_input": "2023-01-29T22:44:56.217008Z",
     "iopub.status.idle": "2023-01-29T22:44:56.251283Z",
     "shell.execute_reply.started": "2023-01-29T22:44:56.216954Z",
     "shell.execute_reply": "2023-01-29T22:44:56.250436Z"
    },
    "trusted": true
   },
   "execution_count": 2,
   "outputs": []
  },
  {
   "cell_type": "markdown",
   "source": [
    "## Data exploration"
   ],
   "metadata": {}
  },
  {
   "cell_type": "code",
   "source": [
    "print(train_data.shape) "
   ],
   "metadata": {
    "execution": {
     "iopub.status.busy": "2023-01-29T22:44:56.252308Z",
     "iopub.execute_input": "2023-01-29T22:44:56.252517Z",
     "iopub.status.idle": "2023-01-29T22:44:56.258016Z",
     "shell.execute_reply.started": "2023-01-29T22:44:56.252491Z",
     "shell.execute_reply": "2023-01-29T22:44:56.256734Z"
    },
    "trusted": true
   },
   "execution_count": 3,
   "outputs": [
    {
     "name": "stdout",
     "text": "(891, 12)\n",
     "output_type": "stream"
    }
   ]
  },
  {
   "cell_type": "markdown",
   "source": [
    "The training data consists of 891 observations of 12 variables."
   ],
   "metadata": {}
  },
  {
   "cell_type": "code",
   "source": [
    "train_data.info()"
   ],
   "metadata": {
    "execution": {
     "iopub.status.busy": "2023-01-29T22:44:56.259749Z",
     "iopub.execute_input": "2023-01-29T22:44:56.260011Z",
     "iopub.status.idle": "2023-01-29T22:44:56.290566Z",
     "shell.execute_reply.started": "2023-01-29T22:44:56.259948Z",
     "shell.execute_reply": "2023-01-29T22:44:56.289856Z"
    },
    "trusted": true
   },
   "execution_count": 4,
   "outputs": [
    {
     "name": "stdout",
     "text": "<class 'pandas.core.frame.DataFrame'>\nRangeIndex: 891 entries, 0 to 890\nData columns (total 12 columns):\n #   Column       Non-Null Count  Dtype  \n---  ------       --------------  -----  \n 0   PassengerId  891 non-null    int64  \n 1   Survived     891 non-null    int64  \n 2   Pclass       891 non-null    int64  \n 3   Name         891 non-null    object \n 4   Sex          891 non-null    object \n 5   Age          714 non-null    float64\n 6   SibSp        891 non-null    int64  \n 7   Parch        891 non-null    int64  \n 8   Ticket       891 non-null    object \n 9   Fare         891 non-null    float64\n 10  Cabin        204 non-null    object \n 11  Embarked     889 non-null    object \ndtypes: float64(2), int64(5), object(5)\nmemory usage: 83.7+ KB\n",
     "output_type": "stream"
    }
   ]
  },
  {
   "cell_type": "markdown",
   "source": [
    "The Survived column is the target variable, taking value of 1 if the passenger survived, 0 if the passenger died.\n",
    "\n",
    "The other variables (possible predictors) are:\n",
    "\n",
    "- PassengerId: id of the passenger\n",
    "- Pclass: the passenger's class, which has possible values 1,2,3 (first, second and third class)\n",
    "- Name of the passenger\n",
    "- Sex\n",
    "- Age\n",
    "- SibSp: number of siblings and spouse traveling with the passenger \n",
    "- Parch: number of parents and children traveling with the passenger\n",
    "- Ticket number\n",
    "- Ticket Fare\n",
    "- Cabin number \n",
    "- Embarkation: Port of Embarkation, one of C (Cherbourg), Q (Queenstown), S (Southampton)"
   ],
   "metadata": {}
  },
  {
   "cell_type": "markdown",
   "source": [
    "### Explore variables"
   ],
   "metadata": {}
  },
  {
   "cell_type": "markdown",
   "source": [
    "#### Missing values"
   ],
   "metadata": {}
  },
  {
   "cell_type": "code",
   "source": [
    "# Find missing values\n",
    "train_data.isnull().sum()"
   ],
   "metadata": {
    "execution": {
     "iopub.status.busy": "2023-01-29T22:44:56.291516Z",
     "iopub.execute_input": "2023-01-29T22:44:56.292181Z",
     "iopub.status.idle": "2023-01-29T22:44:56.302816Z",
     "shell.execute_reply.started": "2023-01-29T22:44:56.292138Z",
     "shell.execute_reply": "2023-01-29T22:44:56.301871Z"
    },
    "trusted": true
   },
   "execution_count": 5,
   "outputs": [
    {
     "execution_count": 5,
     "output_type": "execute_result",
     "data": {
      "text/plain": "PassengerId      0\nSurvived         0\nPclass           0\nName             0\nSex              0\nAge            177\nSibSp            0\nParch            0\nTicket           0\nFare             0\nCabin          687\nEmbarked         2\ndtype: int64"
     },
     "metadata": {}
    }
   ]
  },
  {
   "cell_type": "markdown",
   "source": [
    "A large number of values is missing for the variables Cabin (77%) and Age (20 %). Only 2 values are missing for the variable Embarked. We will drop the variable Cabin since the proportion of missing values is too large, whereas we will fill in the missing variables for Age and Embarked. "
   ],
   "metadata": {}
  },
  {
   "cell_type": "code",
   "source": [
    "test_data.isnull().sum()"
   ],
   "metadata": {
    "execution": {
     "iopub.status.busy": "2023-01-29T22:44:56.303784Z",
     "iopub.execute_input": "2023-01-29T22:44:56.304011Z",
     "iopub.status.idle": "2023-01-29T22:44:56.314184Z",
     "shell.execute_reply.started": "2023-01-29T22:44:56.303983Z",
     "shell.execute_reply": "2023-01-29T22:44:56.313358Z"
    },
    "trusted": true
   },
   "execution_count": 6,
   "outputs": [
    {
     "execution_count": 6,
     "output_type": "execute_result",
     "data": {
      "text/plain": "PassengerId      0\nPclass           0\nName             0\nSex              0\nAge             86\nSibSp            0\nParch            0\nTicket           0\nFare             1\nCabin          327\nEmbarked         0\ndtype: int64"
     },
     "metadata": {}
    }
   ]
  },
  {
   "cell_type": "markdown",
   "source": [
    "There are many missing values for the variables Cabin and Age also in the test data, plus one missing value for the Fare variable. "
   ],
   "metadata": {}
  },
  {
   "cell_type": "markdown",
   "source": [
    "#### Summary statistics"
   ],
   "metadata": {
    "execution": {
     "iopub.status.busy": "2022-01-21T15:23:23.958365Z",
     "iopub.execute_input": "2022-01-21T15:23:23.958681Z",
     "iopub.status.idle": "2022-01-21T15:23:23.967613Z",
     "shell.execute_reply.started": "2022-01-21T15:23:23.958645Z",
     "shell.execute_reply": "2022-01-21T15:23:23.967027Z"
    }
   }
  },
  {
   "cell_type": "code",
   "source": [
    "# Visualize the first rows of the table\n",
    "train_data.head()"
   ],
   "metadata": {
    "execution": {
     "iopub.status.busy": "2023-01-29T22:44:56.315508Z",
     "iopub.execute_input": "2023-01-29T22:44:56.315833Z",
     "iopub.status.idle": "2023-01-29T22:44:56.339951Z",
     "shell.execute_reply.started": "2023-01-29T22:44:56.315784Z",
     "shell.execute_reply": "2023-01-29T22:44:56.339059Z"
    },
    "trusted": true
   },
   "execution_count": 7,
   "outputs": [
    {
     "execution_count": 7,
     "output_type": "execute_result",
     "data": {
      "text/plain": "   PassengerId  Survived  Pclass  \\\n0            1         0       3   \n1            2         1       1   \n2            3         1       3   \n3            4         1       1   \n4            5         0       3   \n\n                                                Name     Sex   Age  SibSp  \\\n0                            Braund, Mr. Owen Harris    male  22.0      1   \n1  Cumings, Mrs. John Bradley (Florence Briggs Th...  female  38.0      1   \n2                             Heikkinen, Miss. Laina  female  26.0      0   \n3       Futrelle, Mrs. Jacques Heath (Lily May Peel)  female  35.0      1   \n4                           Allen, Mr. William Henry    male  35.0      0   \n\n   Parch            Ticket     Fare Cabin Embarked  \n0      0         A/5 21171   7.2500   NaN        S  \n1      0          PC 17599  71.2833   C85        C  \n2      0  STON/O2. 3101282   7.9250   NaN        S  \n3      0            113803  53.1000  C123        S  \n4      0            373450   8.0500   NaN        S  ",
      "text/html": "<div>\n<style scoped>\n    .dataframe tbody tr th:only-of-type {\n        vertical-align: middle;\n    }\n\n    .dataframe tbody tr th {\n        vertical-align: top;\n    }\n\n    .dataframe thead th {\n        text-align: right;\n    }\n</style>\n<table border=\"1\" class=\"dataframe\">\n  <thead>\n    <tr style=\"text-align: right;\">\n      <th></th>\n      <th>PassengerId</th>\n      <th>Survived</th>\n      <th>Pclass</th>\n      <th>Name</th>\n      <th>Sex</th>\n      <th>Age</th>\n      <th>SibSp</th>\n      <th>Parch</th>\n      <th>Ticket</th>\n      <th>Fare</th>\n      <th>Cabin</th>\n      <th>Embarked</th>\n    </tr>\n  </thead>\n  <tbody>\n    <tr>\n      <th>0</th>\n      <td>1</td>\n      <td>0</td>\n      <td>3</td>\n      <td>Braund, Mr. Owen Harris</td>\n      <td>male</td>\n      <td>22.0</td>\n      <td>1</td>\n      <td>0</td>\n      <td>A/5 21171</td>\n      <td>7.2500</td>\n      <td>NaN</td>\n      <td>S</td>\n    </tr>\n    <tr>\n      <th>1</th>\n      <td>2</td>\n      <td>1</td>\n      <td>1</td>\n      <td>Cumings, Mrs. John Bradley (Florence Briggs Th...</td>\n      <td>female</td>\n      <td>38.0</td>\n      <td>1</td>\n      <td>0</td>\n      <td>PC 17599</td>\n      <td>71.2833</td>\n      <td>C85</td>\n      <td>C</td>\n    </tr>\n    <tr>\n      <th>2</th>\n      <td>3</td>\n      <td>1</td>\n      <td>3</td>\n      <td>Heikkinen, Miss. Laina</td>\n      <td>female</td>\n      <td>26.0</td>\n      <td>0</td>\n      <td>0</td>\n      <td>STON/O2. 3101282</td>\n      <td>7.9250</td>\n      <td>NaN</td>\n      <td>S</td>\n    </tr>\n    <tr>\n      <th>3</th>\n      <td>4</td>\n      <td>1</td>\n      <td>1</td>\n      <td>Futrelle, Mrs. Jacques Heath (Lily May Peel)</td>\n      <td>female</td>\n      <td>35.0</td>\n      <td>1</td>\n      <td>0</td>\n      <td>113803</td>\n      <td>53.1000</td>\n      <td>C123</td>\n      <td>S</td>\n    </tr>\n    <tr>\n      <th>4</th>\n      <td>5</td>\n      <td>0</td>\n      <td>3</td>\n      <td>Allen, Mr. William Henry</td>\n      <td>male</td>\n      <td>35.0</td>\n      <td>0</td>\n      <td>0</td>\n      <td>373450</td>\n      <td>8.0500</td>\n      <td>NaN</td>\n      <td>S</td>\n    </tr>\n  </tbody>\n</table>\n</div>"
     },
     "metadata": {}
    }
   ]
  },
  {
   "cell_type": "code",
   "source": [
    "# compute and display summary statistics\n",
    "train_data.describe()"
   ],
   "metadata": {
    "execution": {
     "iopub.status.busy": "2023-01-29T22:44:56.341141Z",
     "iopub.execute_input": "2023-01-29T22:44:56.341451Z",
     "iopub.status.idle": "2023-01-29T22:44:56.373315Z",
     "shell.execute_reply.started": "2023-01-29T22:44:56.341423Z",
     "shell.execute_reply": "2023-01-29T22:44:56.372366Z"
    },
    "trusted": true
   },
   "execution_count": 8,
   "outputs": [
    {
     "execution_count": 8,
     "output_type": "execute_result",
     "data": {
      "text/plain": "       PassengerId    Survived      Pclass         Age       SibSp  \\\ncount   891.000000  891.000000  891.000000  714.000000  891.000000   \nmean    446.000000    0.383838    2.308642   29.699118    0.523008   \nstd     257.353842    0.486592    0.836071   14.526497    1.102743   \nmin       1.000000    0.000000    1.000000    0.420000    0.000000   \n25%     223.500000    0.000000    2.000000   20.125000    0.000000   \n50%     446.000000    0.000000    3.000000   28.000000    0.000000   \n75%     668.500000    1.000000    3.000000   38.000000    1.000000   \nmax     891.000000    1.000000    3.000000   80.000000    8.000000   \n\n            Parch        Fare  \ncount  891.000000  891.000000  \nmean     0.381594   32.204208  \nstd      0.806057   49.693429  \nmin      0.000000    0.000000  \n25%      0.000000    7.910400  \n50%      0.000000   14.454200  \n75%      0.000000   31.000000  \nmax      6.000000  512.329200  ",
      "text/html": "<div>\n<style scoped>\n    .dataframe tbody tr th:only-of-type {\n        vertical-align: middle;\n    }\n\n    .dataframe tbody tr th {\n        vertical-align: top;\n    }\n\n    .dataframe thead th {\n        text-align: right;\n    }\n</style>\n<table border=\"1\" class=\"dataframe\">\n  <thead>\n    <tr style=\"text-align: right;\">\n      <th></th>\n      <th>PassengerId</th>\n      <th>Survived</th>\n      <th>Pclass</th>\n      <th>Age</th>\n      <th>SibSp</th>\n      <th>Parch</th>\n      <th>Fare</th>\n    </tr>\n  </thead>\n  <tbody>\n    <tr>\n      <th>count</th>\n      <td>891.000000</td>\n      <td>891.000000</td>\n      <td>891.000000</td>\n      <td>714.000000</td>\n      <td>891.000000</td>\n      <td>891.000000</td>\n      <td>891.000000</td>\n    </tr>\n    <tr>\n      <th>mean</th>\n      <td>446.000000</td>\n      <td>0.383838</td>\n      <td>2.308642</td>\n      <td>29.699118</td>\n      <td>0.523008</td>\n      <td>0.381594</td>\n      <td>32.204208</td>\n    </tr>\n    <tr>\n      <th>std</th>\n      <td>257.353842</td>\n      <td>0.486592</td>\n      <td>0.836071</td>\n      <td>14.526497</td>\n      <td>1.102743</td>\n      <td>0.806057</td>\n      <td>49.693429</td>\n    </tr>\n    <tr>\n      <th>min</th>\n      <td>1.000000</td>\n      <td>0.000000</td>\n      <td>1.000000</td>\n      <td>0.420000</td>\n      <td>0.000000</td>\n      <td>0.000000</td>\n      <td>0.000000</td>\n    </tr>\n    <tr>\n      <th>25%</th>\n      <td>223.500000</td>\n      <td>0.000000</td>\n      <td>2.000000</td>\n      <td>20.125000</td>\n      <td>0.000000</td>\n      <td>0.000000</td>\n      <td>7.910400</td>\n    </tr>\n    <tr>\n      <th>50%</th>\n      <td>446.000000</td>\n      <td>0.000000</td>\n      <td>3.000000</td>\n      <td>28.000000</td>\n      <td>0.000000</td>\n      <td>0.000000</td>\n      <td>14.454200</td>\n    </tr>\n    <tr>\n      <th>75%</th>\n      <td>668.500000</td>\n      <td>1.000000</td>\n      <td>3.000000</td>\n      <td>38.000000</td>\n      <td>1.000000</td>\n      <td>0.000000</td>\n      <td>31.000000</td>\n    </tr>\n    <tr>\n      <th>max</th>\n      <td>891.000000</td>\n      <td>1.000000</td>\n      <td>3.000000</td>\n      <td>80.000000</td>\n      <td>8.000000</td>\n      <td>6.000000</td>\n      <td>512.329200</td>\n    </tr>\n  </tbody>\n</table>\n</div>"
     },
     "metadata": {}
    }
   ]
  },
  {
   "cell_type": "markdown",
   "source": [
    "Based on this data we can say:\n",
    "- 38% of the passengers survived\n",
    "- the oldest person was 80 years old and the yougest person was less than one year old\n",
    "- More than 50% of people did not come with any siblings or spouses\n",
    "- The highest fare was 512.3 and the lowest was 0"
   ],
   "metadata": {}
  },
  {
   "cell_type": "markdown",
   "source": [
    "### Model based only on gender \n",
    "\n",
    "How the 38 %  passenger who survived are distributed among male and females?"
   ],
   "metadata": {}
  },
  {
   "cell_type": "code",
   "source": [
    "print(sum(train_data.Survived)) # 342 out of 891 passenger survived"
   ],
   "metadata": {
    "execution": {
     "iopub.status.busy": "2023-01-29T22:44:56.374525Z",
     "iopub.execute_input": "2023-01-29T22:44:56.374825Z",
     "iopub.status.idle": "2023-01-29T22:44:56.380192Z",
     "shell.execute_reply.started": "2023-01-29T22:44:56.374784Z",
     "shell.execute_reply": "2023-01-29T22:44:56.379290Z"
    },
    "trusted": true
   },
   "execution_count": 9,
   "outputs": [
    {
     "name": "stdout",
     "text": "342\n",
     "output_type": "stream"
    }
   ]
  },
  {
   "cell_type": "code",
   "source": [
    "sns.countplot(x='Survived', hue='Sex', data=train_data)"
   ],
   "metadata": {
    "execution": {
     "iopub.status.busy": "2023-01-29T22:44:56.384197Z",
     "iopub.execute_input": "2023-01-29T22:44:56.384543Z",
     "iopub.status.idle": "2023-01-29T22:44:56.643308Z",
     "shell.execute_reply.started": "2023-01-29T22:44:56.384499Z",
     "shell.execute_reply": "2023-01-29T22:44:56.642434Z"
    },
    "trusted": true
   },
   "execution_count": 10,
   "outputs": [
    {
     "execution_count": 10,
     "output_type": "execute_result",
     "data": {
      "text/plain": "<AxesSubplot:xlabel='Survived', ylabel='count'>"
     },
     "metadata": {}
    },
    {
     "output_type": "display_data",
     "data": {
      "text/plain": "<Figure size 432x288 with 1 Axes>",
      "image/png": "[encoded data removed]"
     },
     "metadata": {
      "needs_background": "light"
     }
    }
   ]
  },
  {
   "cell_type": "code",
   "source": [
    "women = train_data.loc[train_data.Sex == 'female']['Survived']\n",
    "women_survived = sum(women)\n",
    "tot_women = len(women)\n",
    "rate_women = women_survived/tot_women * 100\n",
    "print(women_survived,'women survived of the',tot_women,'women on board','({:.2f}'.format(rate_women),'%)')"
   ],
   "metadata": {
    "execution": {
     "iopub.status.busy": "2023-01-29T22:44:56.644500Z",
     "iopub.execute_input": "2023-01-29T22:44:56.644727Z",
     "iopub.status.idle": "2023-01-29T22:44:56.654848Z",
     "shell.execute_reply.started": "2023-01-29T22:44:56.644700Z",
     "shell.execute_reply": "2023-01-29T22:44:56.653935Z"
    },
    "trusted": true
   },
   "execution_count": 11,
   "outputs": [
    {
     "name": "stdout",
     "text": "233 women survived of the 314 women on board (74.20 %)\n",
     "output_type": "stream"
    }
   ]
  },
  {
   "cell_type": "code",
   "source": [
    "men = train_data.loc[train_data.Sex == 'male']['Survived']\n",
    "men_survived = sum(men)\n",
    "tot_men = len(men)\n",
    "rate_men = men_survived/tot_men * 100\n",
    "print(men_survived,'men survived of the',tot_men,'men on board','({:.2f}'.format(rate_men),'%)')"
   ],
   "metadata": {
    "execution": {
     "iopub.status.busy": "2023-01-29T22:44:56.656115Z",
     "iopub.execute_input": "2023-01-29T22:44:56.656374Z",
     "iopub.status.idle": "2023-01-29T22:44:56.665333Z",
     "shell.execute_reply.started": "2023-01-29T22:44:56.656346Z",
     "shell.execute_reply": "2023-01-29T22:44:56.664601Z"
    },
    "trusted": true
   },
   "execution_count": 12,
   "outputs": [
    {
     "name": "stdout",
     "text": "109 men survived of the 577 men on board (18.89 %)\n",
     "output_type": "stream"
    }
   ]
  },
  {
   "cell_type": "markdown",
   "source": [
    "The Sex of the passenger is an important predictor: 74.20 % of the women onboard survived with respect of only 18.89 % of the men. Therefore a very simple model that predicts the survival on the basis of the variable Sex only (if passenger is female predict survival, otherwise death) would have an accuracy of about 74.20 %."
   ],
   "metadata": {}
  },
  {
   "cell_type": "markdown",
   "source": [
    "### Looking deeper into differences between females and males statistics"
   ],
   "metadata": {}
  },
  {
   "cell_type": "code",
   "source": [
    "train_data.groupby(['Sex','Pclass']).mean()"
   ],
   "metadata": {
    "execution": {
     "iopub.status.busy": "2023-01-29T22:44:56.667099Z",
     "iopub.execute_input": "2023-01-29T22:44:56.667645Z",
     "iopub.status.idle": "2023-01-29T22:44:56.690246Z",
     "shell.execute_reply.started": "2023-01-29T22:44:56.667601Z",
     "shell.execute_reply": "2023-01-29T22:44:56.689417Z"
    },
    "trusted": true
   },
   "execution_count": 13,
   "outputs": [
    {
     "execution_count": 13,
     "output_type": "execute_result",
     "data": {
      "text/plain": "               PassengerId  Survived        Age     SibSp     Parch  \\\nSex    Pclass                                                         \nfemale 1        469.212766  0.968085  34.611765  0.553191  0.457447   \n       2        443.105263  0.921053  28.722973  0.486842  0.605263   \n       3        399.729167  0.500000  21.750000  0.895833  0.798611   \nmale   1        455.729508  0.368852  41.281386  0.311475  0.278689   \n       2        447.962963  0.157407  30.740707  0.342593  0.222222   \n       3        455.515850  0.135447  26.507589  0.498559  0.224784   \n\n                     Fare  \nSex    Pclass              \nfemale 1       106.125798  \n       2        21.970121  \n       3        16.118810  \nmale   1        67.226127  \n       2        19.741782  \n       3        12.661633  ",
      "text/html": "<div>\n<style scoped>\n    .dataframe tbody tr th:only-of-type {\n        vertical-align: middle;\n    }\n\n    .dataframe tbody tr th {\n        vertical-align: top;\n    }\n\n    .dataframe thead th {\n        text-align: right;\n    }\n</style>\n<table border=\"1\" class=\"dataframe\">\n  <thead>\n    <tr style=\"text-align: right;\">\n      <th></th>\n      <th></th>\n      <th>PassengerId</th>\n      <th>Survived</th>\n      <th>Age</th>\n      <th>SibSp</th>\n      <th>Parch</th>\n      <th>Fare</th>\n    </tr>\n    <tr>\n      <th>Sex</th>\n      <th>Pclass</th>\n      <th></th>\n      <th></th>\n      <th></th>\n      <th></th>\n      <th></th>\n      <th></th>\n    </tr>\n  </thead>\n  <tbody>\n    <tr>\n      <th rowspan=\"3\" valign=\"top\">female</th>\n      <th>1</th>\n      <td>469.212766</td>\n      <td>0.968085</td>\n      <td>34.611765</td>\n      <td>0.553191</td>\n      <td>0.457447</td>\n      <td>106.125798</td>\n    </tr>\n    <tr>\n      <th>2</th>\n      <td>443.105263</td>\n      <td>0.921053</td>\n      <td>28.722973</td>\n      <td>0.486842</td>\n      <td>0.605263</td>\n      <td>21.970121</td>\n    </tr>\n    <tr>\n      <th>3</th>\n      <td>399.729167</td>\n      <td>0.500000</td>\n      <td>21.750000</td>\n      <td>0.895833</td>\n      <td>0.798611</td>\n      <td>16.118810</td>\n    </tr>\n    <tr>\n      <th rowspan=\"3\" valign=\"top\">male</th>\n      <th>1</th>\n      <td>455.729508</td>\n      <td>0.368852</td>\n      <td>41.281386</td>\n      <td>0.311475</td>\n      <td>0.278689</td>\n      <td>67.226127</td>\n    </tr>\n    <tr>\n      <th>2</th>\n      <td>447.962963</td>\n      <td>0.157407</td>\n      <td>30.740707</td>\n      <td>0.342593</td>\n      <td>0.222222</td>\n      <td>19.741782</td>\n    </tr>\n    <tr>\n      <th>3</th>\n      <td>455.515850</td>\n      <td>0.135447</td>\n      <td>26.507589</td>\n      <td>0.498559</td>\n      <td>0.224784</td>\n      <td>12.661633</td>\n    </tr>\n  </tbody>\n</table>\n</div>"
     },
     "metadata": {}
    }
   ]
  },
  {
   "cell_type": "markdown",
   "source": [
    "Grouping passengers based on Sex and Ticket class (Pclass) we can notice other difference between survival rates:\n",
    "- Women in the first and second class are highly likely to survive, while women in the third class have 50 % chance of survival.\n",
    "- Men in the first class are almost 3-times more likely to survive than men in the third class.\n",
    "\n",
    "We can confirm this information also with barplots. Note that by default, the barplot() function draws error bars in the plot with 95% confidence interval."
   ],
   "metadata": {}
  },
  {
   "cell_type": "code",
   "source": [
    "plt.figure(figsize=(8,8))\n",
    "sns.barplot(x = 'Sex', y = 'Survived', hue = 'Pclass', data = train_data)\n",
    "plt.show()"
   ],
   "metadata": {
    "execution": {
     "iopub.status.busy": "2023-01-29T22:44:56.691363Z",
     "iopub.execute_input": "2023-01-29T22:44:56.693258Z",
     "iopub.status.idle": "2023-01-29T22:44:57.086686Z",
     "shell.execute_reply.started": "2023-01-29T22:44:56.693222Z",
     "shell.execute_reply": "2023-01-29T22:44:57.085743Z"
    },
    "trusted": true
   },
   "execution_count": 14,
   "outputs": [
    {
     "output_type": "display_data",
     "data": {
      "text/plain": "<Figure size 576x576 with 1 Axes>",
      "image/png": "[encoded data removed]"
     },
     "metadata": {
      "needs_background": "light"
     }
    }
   ]
  },
  {
   "cell_type": "markdown",
   "source": [
    "### Children\n",
    "Now we will look at how the age of the passenger affected their chance of survival."
   ],
   "metadata": {}
  },
  {
   "cell_type": "code",
   "source": [
    "fig, axes = plt.subplots(nrows=1,ncols=2,figsize=(10, 4))\n",
    "women = train_data[train_data['Sex']=='female']\n",
    "men = train_data[train_data['Sex']=='male']\n",
    "\n",
    "ax = sns.histplot(women[women['Survived']==1].Age.dropna(), ax=axes[0], bins=range(0, 80, 5), label = 'survived', color='blue', edgecolor='blue', alpha=0.1)\n",
    "ax = sns.histplot(women[women['Survived']==0].Age.dropna(), ax=axes[0], bins=range(0, 80, 5), label = 'died', color='red', edgecolor='red', alpha=0.1)\n",
    "\n",
    "ax.set_title('Female')\n",
    "\n",
    "ax = sns.histplot(men[men['Survived']==1].Age.dropna(), ax=axes[1], bins=range(0, 80, 5), label = 'survived',  color='blue', edgecolor='blue', alpha=0.2)\n",
    "ax = sns.histplot(men[men['Survived']==0].Age.dropna(), ax=axes[1], bins=range(0, 80, 5), label = 'died', color='red', edgecolor='red', alpha=0.2)\n",
    "ax.legend()\n",
    "_ = ax.set_title('Male')"
   ],
   "metadata": {
    "execution": {
     "iopub.status.busy": "2023-01-29T22:44:57.088144Z",
     "iopub.execute_input": "2023-01-29T22:44:57.088457Z",
     "iopub.status.idle": "2023-01-29T22:44:57.646031Z",
     "shell.execute_reply.started": "2023-01-29T22:44:57.088413Z",
     "shell.execute_reply": "2023-01-29T22:44:57.645056Z"
    },
    "trusted": true
   },
   "execution_count": 15,
   "outputs": [
    {
     "output_type": "display_data",
     "data": {
      "text/plain": "<Figure size 720x288 with 2 Axes>",
      "image/png": "[encoded data removed]"
     },
     "metadata": {
      "needs_background": "light"
     }
    }
   ]
  },
  {
   "cell_type": "code",
   "source": [
    "train_data[train_data['Age']<18].groupby(['Sex','Pclass']).mean()"
   ],
   "metadata": {
    "execution": {
     "iopub.status.busy": "2023-01-29T22:44:57.647241Z",
     "iopub.execute_input": "2023-01-29T22:44:57.647468Z",
     "iopub.status.idle": "2023-01-29T22:44:57.667305Z",
     "shell.execute_reply.started": "2023-01-29T22:44:57.647440Z",
     "shell.execute_reply": "2023-01-29T22:44:57.666261Z"
    },
    "trusted": true
   },
   "execution_count": 16,
   "outputs": [
    {
     "execution_count": 16,
     "output_type": "execute_result",
     "data": {
      "text/plain": "               PassengerId  Survived        Age     SibSp     Parch  \\\nSex    Pclass                                                         \nfemale 1        525.375000  0.875000  14.125000  0.500000  0.875000   \n       2        369.250000  1.000000   8.333333  0.583333  1.083333   \n       3        374.942857  0.542857   8.428571  1.571429  1.057143   \nmale   1        526.500000  1.000000   8.230000  0.500000  2.000000   \n       2        527.818182  0.818182   4.757273  0.727273  1.000000   \n       3        437.953488  0.232558   9.963256  2.069767  1.000000   \n\n                     Fare  \nSex    Pclass              \nfemale 1       104.083337  \n       2        26.241667  \n       3        18.727977  \nmale   1       116.072900  \n       2        25.659473  \n       3        22.752523  ",
      "text/html": "<div>\n<style scoped>\n    .dataframe tbody tr th:only-of-type {\n        vertical-align: middle;\n    }\n\n    .dataframe tbody tr th {\n        vertical-align: top;\n    }\n\n    .dataframe thead th {\n        text-align: right;\n    }\n</style>\n<table border=\"1\" class=\"dataframe\">\n  <thead>\n    <tr style=\"text-align: right;\">\n      <th></th>\n      <th></th>\n      <th>PassengerId</th>\n      <th>Survived</th>\n      <th>Age</th>\n      <th>SibSp</th>\n      <th>Parch</th>\n      <th>Fare</th>\n    </tr>\n    <tr>\n      <th>Sex</th>\n      <th>Pclass</th>\n      <th></th>\n      <th></th>\n      <th></th>\n      <th></th>\n      <th></th>\n      <th></th>\n    </tr>\n  </thead>\n  <tbody>\n    <tr>\n      <th rowspan=\"3\" valign=\"top\">female</th>\n      <th>1</th>\n      <td>525.375000</td>\n      <td>0.875000</td>\n      <td>14.125000</td>\n      <td>0.500000</td>\n      <td>0.875000</td>\n      <td>104.083337</td>\n    </tr>\n    <tr>\n      <th>2</th>\n      <td>369.250000</td>\n      <td>1.000000</td>\n      <td>8.333333</td>\n      <td>0.583333</td>\n      <td>1.083333</td>\n      <td>26.241667</td>\n    </tr>\n    <tr>\n      <th>3</th>\n      <td>374.942857</td>\n      <td>0.542857</td>\n      <td>8.428571</td>\n      <td>1.571429</td>\n      <td>1.057143</td>\n      <td>18.727977</td>\n    </tr>\n    <tr>\n      <th rowspan=\"3\" valign=\"top\">male</th>\n      <th>1</th>\n      <td>526.500000</td>\n      <td>1.000000</td>\n      <td>8.230000</td>\n      <td>0.500000</td>\n      <td>2.000000</td>\n      <td>116.072900</td>\n    </tr>\n    <tr>\n      <th>2</th>\n      <td>527.818182</td>\n      <td>0.818182</td>\n      <td>4.757273</td>\n      <td>0.727273</td>\n      <td>1.000000</td>\n      <td>25.659473</td>\n    </tr>\n    <tr>\n      <th>3</th>\n      <td>437.953488</td>\n      <td>0.232558</td>\n      <td>9.963256</td>\n      <td>2.069767</td>\n      <td>1.000000</td>\n      <td>22.752523</td>\n    </tr>\n  </tbody>\n</table>\n</div>"
     },
     "metadata": {}
    }
   ]
  },
  {
   "cell_type": "markdown",
   "source": [
    "Children have a higher chance of survival, especially in the first and second class. This confirms the known fact that, during the slow sinking of the Titanic, the crew enforced the order of saving women and children first. "
   ],
   "metadata": {}
  },
  {
   "cell_type": "markdown",
   "source": [
    "### Port of embarkation\n",
    "\n",
    "We have seen that sex, class of the passenger and age are variables affecting the survival chance of a passenger. Now we'll look at the effect of the port of embarkation. "
   ],
   "metadata": {}
  },
  {
   "cell_type": "code",
   "source": [
    "fig1, ax1 = plt.subplots(nrows=1, ncols=3, figsize=(10,5))\n",
    "train_data.groupby('Sex')['Survived'].mean().plot.bar(ax=ax1[0], rot=0, title='Female or Male', edgecolor=\"k\", xlabel='')\n",
    "train_data.groupby('Pclass')['Survived'].mean().plot.bar(ax=ax1[1], rot=0, title='Passenger Class', edgecolor=\"k\", xlabel='')\n",
    "train_data.groupby('Embarked')['Survived'].mean().plot.bar(ax=ax1[2], rot=0, title='Port of Embarkation', edgecolor=\"k\", xlabel='')\n",
    "\n",
    "plt.tight_layout()\n",
    "plt.show()"
   ],
   "metadata": {
    "execution": {
     "iopub.status.busy": "2023-01-29T22:44:57.668751Z",
     "iopub.execute_input": "2023-01-29T22:44:57.669107Z",
     "iopub.status.idle": "2023-01-29T22:44:58.163096Z",
     "shell.execute_reply.started": "2023-01-29T22:44:57.669062Z",
     "shell.execute_reply": "2023-01-29T22:44:58.162461Z"
    },
    "trusted": true
   },
   "execution_count": 17,
   "outputs": [
    {
     "output_type": "display_data",
     "data": {
      "text/plain": "<Figure size 720x360 with 3 Axes>",
      "image/png": "[encoded data removed]"
     },
     "metadata": {
      "needs_background": "light"
     }
    }
   ]
  },
  {
   "cell_type": "markdown",
   "source": [
    "It seems that passenger embarked in Cherbourg have higher chance of survival then those embarked in Queenstown and Southampton. Let's look at the sex and class of the passenger embarked in each port. "
   ],
   "metadata": {}
  },
  {
   "cell_type": "code",
   "source": [
    "fig2, ax2 = plt.subplots(nrows=1, ncols=2, figsize=(10,5))\n",
    "ax = sns.countplot(x='Embarked', hue='Pclass', data=train_data, ax=ax2[0])\n",
    "ax = sns.countplot(x='Embarked', hue='Sex', data=train_data, ax=ax2[1])"
   ],
   "metadata": {
    "execution": {
     "iopub.status.busy": "2023-01-29T22:44:58.164049Z",
     "iopub.execute_input": "2023-01-29T22:44:58.164721Z",
     "iopub.status.idle": "2023-01-29T22:44:58.584479Z",
     "shell.execute_reply.started": "2023-01-29T22:44:58.164686Z",
     "shell.execute_reply": "2023-01-29T22:44:58.583413Z"
    },
    "trusted": true
   },
   "execution_count": 18,
   "outputs": [
    {
     "output_type": "display_data",
     "data": {
      "text/plain": "<Figure size 720x360 with 2 Axes>",
      "image/png": "[encoded data removed]"
     },
     "metadata": {
      "needs_background": "light"
     }
    }
   ]
  },
  {
   "cell_type": "markdown",
   "source": [
    "Interestingly, we notice that:\n",
    "- the proportion of first class passengers embarked in Cherbourg is much higher with respect to the other two ports\n",
    "- A higher proportion of females has embarked both in Chenbourg and Queenstown than in Southampton. \n",
    "\n",
    "Since sex and class are the reasons behind the highest survival rate of passengers embarked in Chenbourg and Queenstown with respect to those embarked in Southampton, including the variable Embarked in our model would cause redundancy. Why would the port of embarkation make any difference? "
   ],
   "metadata": {}
  },
  {
   "cell_type": "markdown",
   "source": [
    "### Fare"
   ],
   "metadata": {}
  },
  {
   "cell_type": "markdown",
   "source": [
    "Let's explore the relationship between the ticket price paid by a passenger (Fare) and their chance of survival. Does the variable Fare provide additional information than only Pclass?"
   ],
   "metadata": {}
  },
  {
   "cell_type": "code",
   "source": [
    "train_data[[\"Fare\"]].describe()"
   ],
   "metadata": {
    "execution": {
     "iopub.status.busy": "2023-01-29T22:44:58.585683Z",
     "iopub.execute_input": "2023-01-29T22:44:58.587192Z",
     "iopub.status.idle": "2023-01-29T22:44:58.604015Z",
     "shell.execute_reply.started": "2023-01-29T22:44:58.587152Z",
     "shell.execute_reply": "2023-01-29T22:44:58.602460Z"
    },
    "trusted": true
   },
   "execution_count": 19,
   "outputs": [
    {
     "execution_count": 19,
     "output_type": "execute_result",
     "data": {
      "text/plain": "             Fare\ncount  891.000000\nmean    32.204208\nstd     49.693429\nmin      0.000000\n25%      7.910400\n50%     14.454200\n75%     31.000000\nmax    512.329200",
      "text/html": "<div>\n<style scoped>\n    .dataframe tbody tr th:only-of-type {\n        vertical-align: middle;\n    }\n\n    .dataframe tbody tr th {\n        vertical-align: top;\n    }\n\n    .dataframe thead th {\n        text-align: right;\n    }\n</style>\n<table border=\"1\" class=\"dataframe\">\n  <thead>\n    <tr style=\"text-align: right;\">\n      <th></th>\n      <th>Fare</th>\n    </tr>\n  </thead>\n  <tbody>\n    <tr>\n      <th>count</th>\n      <td>891.000000</td>\n    </tr>\n    <tr>\n      <th>mean</th>\n      <td>32.204208</td>\n    </tr>\n    <tr>\n      <th>std</th>\n      <td>49.693429</td>\n    </tr>\n    <tr>\n      <th>min</th>\n      <td>0.000000</td>\n    </tr>\n    <tr>\n      <th>25%</th>\n      <td>7.910400</td>\n    </tr>\n    <tr>\n      <th>50%</th>\n      <td>14.454200</td>\n    </tr>\n    <tr>\n      <th>75%</th>\n      <td>31.000000</td>\n    </tr>\n    <tr>\n      <th>max</th>\n      <td>512.329200</td>\n    </tr>\n  </tbody>\n</table>\n</div>"
     },
     "metadata": {}
    }
   ]
  },
  {
   "cell_type": "markdown",
   "source": [
    "The Fare value can range between 0 and 512. Let's see the mean and median values grouped by class and sex."
   ],
   "metadata": {}
  },
  {
   "cell_type": "code",
   "source": [
    "print('Mean:\\n',train_data.groupby(['Sex', 'Pclass'])['Fare'].mean(),'\\n')\n",
    "print('Median:\\n',train_data.groupby(['Sex', 'Pclass'])['Fare'].median())"
   ],
   "metadata": {
    "execution": {
     "iopub.status.busy": "2023-01-29T22:44:58.605870Z",
     "iopub.execute_input": "2023-01-29T22:44:58.606180Z",
     "iopub.status.idle": "2023-01-29T22:44:58.621329Z",
     "shell.execute_reply.started": "2023-01-29T22:44:58.606143Z",
     "shell.execute_reply": "2023-01-29T22:44:58.620426Z"
    },
    "trusted": true
   },
   "execution_count": 20,
   "outputs": [
    {
     "name": "stdout",
     "text": "Mean:\n Sex     Pclass\nfemale  1         106.125798\n        2          21.970121\n        3          16.118810\nmale    1          67.226127\n        2          19.741782\n        3          12.661633\nName: Fare, dtype: float64 \n\nMedian:\n Sex     Pclass\nfemale  1         82.66455\n        2         22.00000\n        3         12.47500\nmale    1         41.26250\n        2         13.00000\n        3          7.92500\nName: Fare, dtype: float64\n",
     "output_type": "stream"
    }
   ]
  },
  {
   "cell_type": "markdown",
   "source": [
    "The comparison of mean and median values shows that there are certainly some outliers. "
   ],
   "metadata": {}
  },
  {
   "cell_type": "code",
   "source": [
    "sns.catplot(x='Fare', y='Survived', row='Pclass', kind='box',\n",
    "            orient='h', height=1.5, aspect=4, data=train_data)"
   ],
   "metadata": {
    "execution": {
     "iopub.status.busy": "2023-01-29T22:44:58.622517Z",
     "iopub.execute_input": "2023-01-29T22:44:58.623173Z",
     "iopub.status.idle": "2023-01-29T22:44:59.397942Z",
     "shell.execute_reply.started": "2023-01-29T22:44:58.623120Z",
     "shell.execute_reply": "2023-01-29T22:44:59.396879Z"
    },
    "trusted": true
   },
   "execution_count": 21,
   "outputs": [
    {
     "execution_count": 21,
     "output_type": "execute_result",
     "data": {
      "text/plain": "<seaborn.axisgrid.FacetGrid at 0x7f6c109e36d0>"
     },
     "metadata": {}
    },
    {
     "output_type": "display_data",
     "data": {
      "text/plain": "<Figure size 432x324 with 3 Axes>",
      "image/png": "[encoded data removed]"
     },
     "metadata": {
      "needs_background": "light"
     }
    }
   ]
  },
  {
   "cell_type": "code",
   "source": [
    "women = train_data[(train_data['Sex'] == 'female')]\n",
    "men = train_data[(train_data['Sex'] == 'male')]\n",
    "\n",
    "fig, axes = plt.subplots(nrows=1,ncols=2,figsize=(10, 10))\n",
    "plt.figure(figsize=(8,8))\n",
    "ax = sns.boxplot(data=women, x=\"Pclass\", y=\"Fare\", hue=\"Survived\", palette=\"Set3\", ax=axes[0]).set_title('Females')\n",
    "\n",
    "ax = sns.boxplot(data=men, x=\"Pclass\", y=\"Fare\", hue=\"Survived\", palette=\"Set3\", ax=axes[1]).set_title('Males')"
   ],
   "metadata": {
    "execution": {
     "iopub.status.busy": "2023-01-29T22:44:59.399998Z",
     "iopub.execute_input": "2023-01-29T22:44:59.400591Z",
     "iopub.status.idle": "2023-01-29T22:44:59.984618Z",
     "shell.execute_reply.started": "2023-01-29T22:44:59.400552Z",
     "shell.execute_reply": "2023-01-29T22:44:59.983831Z"
    },
    "trusted": true
   },
   "execution_count": 22,
   "outputs": [
    {
     "output_type": "display_data",
     "data": {
      "text/plain": "<Figure size 720x720 with 2 Axes>",
      "image/png": "[encoded data removed]"
     },
     "metadata": {
      "needs_background": "light"
     }
    },
    {
     "output_type": "display_data",
     "data": {
      "text/plain": "<Figure size 576x576 with 0 Axes>"
     },
     "metadata": {}
    }
   ]
  },
  {
   "cell_type": "markdown",
   "source": [
    "At first it seems that the variable Fare may add additional information: both first and second class passengers who survived are likely to have paid a higher Fare than the other passengers of the same class. However, in each class females paid a higher fee than males, so it is likely that difference chance of survival related to the paid fare is due to the sex of the passenger. "
   ],
   "metadata": {}
  },
  {
   "cell_type": "markdown",
   "source": [
    "## Feature engineering\n",
    "\n",
    "Having more features is not always advantageous, quite the opposite! Redundant and correlated features affects negatively the performance of the model. For example the variable \"Fare\" is highly correlated with the class and gender of the passenger, and has therefore a prective power, but it becomes redundant in a model already cointaing \"class\" and \"sex\". Especially in logistic regression, we aim at the simpler model that can explain the data. Therefore here we will limit our predictors to the following most informative variables:\n",
    "\n",
    "- sex\n",
    "- age\n",
    "- class\n",
    "- family size\n",
    "\n",
    "We will create categorical variables to better represent these factors."
   ],
   "metadata": {}
  },
  {
   "cell_type": "code",
   "source": [
    "# Extract and then remove the targets from the training data \n",
    "targets = train_data.Survived\n",
    "train_data.drop(['Survived'], axis=1, inplace=True)\n",
    "\n",
    "# Merge train and test data for feature engineering\n",
    "combined = train_data.append(test_data) \n",
    "combined.reset_index(inplace=True)\n",
    "\n",
    "# Remove non informative features\n",
    "combined.drop(['index','PassengerId','Name','Ticket','Cabin','Fare','Embarked'], axis=1, inplace=True) "
   ],
   "metadata": {
    "execution": {
     "iopub.status.busy": "2023-01-29T22:44:59.986248Z",
     "iopub.execute_input": "2023-01-29T22:44:59.986748Z",
     "iopub.status.idle": "2023-01-29T22:45:00.000695Z",
     "shell.execute_reply.started": "2023-01-29T22:44:59.986702Z",
     "shell.execute_reply": "2023-01-29T22:44:59.999733Z"
    },
    "trusted": true
   },
   "execution_count": 23,
   "outputs": []
  },
  {
   "cell_type": "code",
   "source": [
    "print(combined.shape)"
   ],
   "metadata": {
    "execution": {
     "iopub.status.busy": "2023-01-29T22:45:00.002459Z",
     "iopub.execute_input": "2023-01-29T22:45:00.002862Z",
     "iopub.status.idle": "2023-01-29T22:45:00.011724Z",
     "shell.execute_reply.started": "2023-01-29T22:45:00.002818Z",
     "shell.execute_reply": "2023-01-29T22:45:00.010521Z"
    },
    "trusted": true
   },
   "execution_count": 24,
   "outputs": [
    {
     "name": "stdout",
     "text": "(1309, 5)\n",
     "output_type": "stream"
    }
   ]
  },
  {
   "cell_type": "code",
   "source": [
    "combined.head()"
   ],
   "metadata": {
    "execution": {
     "iopub.status.busy": "2023-01-29T22:45:00.013204Z",
     "iopub.execute_input": "2023-01-29T22:45:00.013450Z",
     "iopub.status.idle": "2023-01-29T22:45:00.024419Z",
     "shell.execute_reply.started": "2023-01-29T22:45:00.013422Z",
     "shell.execute_reply": "2023-01-29T22:45:00.023527Z"
    },
    "trusted": true
   },
   "execution_count": 25,
   "outputs": [
    {
     "execution_count": 25,
     "output_type": "execute_result",
     "data": {
      "text/plain": "   Pclass     Sex   Age  SibSp  Parch\n0       3    male  22.0      1      0\n1       1  female  38.0      1      0\n2       3  female  26.0      0      0\n3       1  female  35.0      1      0\n4       3    male  35.0      0      0",
      "text/html": "<div>\n<style scoped>\n    .dataframe tbody tr th:only-of-type {\n        vertical-align: middle;\n    }\n\n    .dataframe tbody tr th {\n        vertical-align: top;\n    }\n\n    .dataframe thead th {\n        text-align: right;\n    }\n</style>\n<table border=\"1\" class=\"dataframe\">\n  <thead>\n    <tr style=\"text-align: right;\">\n      <th></th>\n      <th>Pclass</th>\n      <th>Sex</th>\n      <th>Age</th>\n      <th>SibSp</th>\n      <th>Parch</th>\n    </tr>\n  </thead>\n  <tbody>\n    <tr>\n      <th>0</th>\n      <td>3</td>\n      <td>male</td>\n      <td>22.0</td>\n      <td>1</td>\n      <td>0</td>\n    </tr>\n    <tr>\n      <th>1</th>\n      <td>1</td>\n      <td>female</td>\n      <td>38.0</td>\n      <td>1</td>\n      <td>0</td>\n    </tr>\n    <tr>\n      <th>2</th>\n      <td>3</td>\n      <td>female</td>\n      <td>26.0</td>\n      <td>0</td>\n      <td>0</td>\n    </tr>\n    <tr>\n      <th>3</th>\n      <td>1</td>\n      <td>female</td>\n      <td>35.0</td>\n      <td>1</td>\n      <td>0</td>\n    </tr>\n    <tr>\n      <th>4</th>\n      <td>3</td>\n      <td>male</td>\n      <td>35.0</td>\n      <td>0</td>\n      <td>0</td>\n    </tr>\n  </tbody>\n</table>\n</div>"
     },
     "metadata": {}
    }
   ]
  },
  {
   "cell_type": "markdown",
   "source": [
    "### Age variable\n",
    "The Age variable is missing a large number of values. Simply replacing them with the mean or the median age is not the best solution since the age differs by categories of passengers. \n",
    "Therefore, we will fill in the missing values on the base of both Sex and Class of the passenger.\n",
    "\n",
    "To avoid data leakage from the test set, we fill in missing ages in the train using the train set and we fill in ages in the test set using values calculated from the train set as well."
   ],
   "metadata": {}
  },
  {
   "cell_type": "code",
   "source": [
    "print(combined.iloc[:891].Age.isnull().sum()) # Number of missing ages in train set"
   ],
   "metadata": {
    "execution": {
     "iopub.status.busy": "2023-01-29T22:45:00.025691Z",
     "iopub.execute_input": "2023-01-29T22:45:00.025977Z",
     "iopub.status.idle": "2023-01-29T22:45:00.036368Z",
     "shell.execute_reply.started": "2023-01-29T22:45:00.025903Z",
     "shell.execute_reply": "2023-01-29T22:45:00.035468Z"
    },
    "trusted": true
   },
   "execution_count": 26,
   "outputs": [
    {
     "name": "stdout",
     "text": "177\n",
     "output_type": "stream"
    }
   ]
  },
  {
   "cell_type": "code",
   "source": [
    "print(combined.iloc[891:].Age.isnull().sum()) # Number of missing ages in test set"
   ],
   "metadata": {
    "execution": {
     "iopub.status.busy": "2023-01-29T22:45:00.037620Z",
     "iopub.execute_input": "2023-01-29T22:45:00.037851Z",
     "iopub.status.idle": "2023-01-29T22:45:00.049674Z",
     "shell.execute_reply.started": "2023-01-29T22:45:00.037823Z",
     "shell.execute_reply": "2023-01-29T22:45:00.048365Z"
    },
    "trusted": true
   },
   "execution_count": 27,
   "outputs": [
    {
     "name": "stdout",
     "text": "86\n",
     "output_type": "stream"
    }
   ]
  },
  {
   "cell_type": "code",
   "source": [
    "grouped_train = combined.iloc[:891].groupby(['Sex','Pclass'])\n",
    "grouped_median_train = grouped_train.median()\n",
    "grouped_median_train = grouped_median_train.reset_index()[['Sex', 'Pclass', 'Age']]"
   ],
   "metadata": {
    "execution": {
     "iopub.status.busy": "2023-01-29T22:45:00.055534Z",
     "iopub.execute_input": "2023-01-29T22:45:00.057516Z",
     "iopub.status.idle": "2023-01-29T22:45:00.070332Z",
     "shell.execute_reply.started": "2023-01-29T22:45:00.057468Z",
     "shell.execute_reply": "2023-01-29T22:45:00.069241Z"
    },
    "trusted": true
   },
   "execution_count": 28,
   "outputs": []
  },
  {
   "cell_type": "code",
   "source": [
    "grouped_median_train.head()"
   ],
   "metadata": {
    "execution": {
     "iopub.status.busy": "2023-01-29T22:45:00.073679Z",
     "iopub.execute_input": "2023-01-29T22:45:00.073956Z",
     "iopub.status.idle": "2023-01-29T22:45:00.086147Z",
     "shell.execute_reply.started": "2023-01-29T22:45:00.073922Z",
     "shell.execute_reply": "2023-01-29T22:45:00.085225Z"
    },
    "trusted": true
   },
   "execution_count": 29,
   "outputs": [
    {
     "execution_count": 29,
     "output_type": "execute_result",
     "data": {
      "text/plain": "      Sex  Pclass   Age\n0  female       1  35.0\n1  female       2  28.0\n2  female       3  21.5\n3    male       1  40.0\n4    male       2  30.0",
      "text/html": "<div>\n<style scoped>\n    .dataframe tbody tr th:only-of-type {\n        vertical-align: middle;\n    }\n\n    .dataframe tbody tr th {\n        vertical-align: top;\n    }\n\n    .dataframe thead th {\n        text-align: right;\n    }\n</style>\n<table border=\"1\" class=\"dataframe\">\n  <thead>\n    <tr style=\"text-align: right;\">\n      <th></th>\n      <th>Sex</th>\n      <th>Pclass</th>\n      <th>Age</th>\n    </tr>\n  </thead>\n  <tbody>\n    <tr>\n      <th>0</th>\n      <td>female</td>\n      <td>1</td>\n      <td>35.0</td>\n    </tr>\n    <tr>\n      <th>1</th>\n      <td>female</td>\n      <td>2</td>\n      <td>28.0</td>\n    </tr>\n    <tr>\n      <th>2</th>\n      <td>female</td>\n      <td>3</td>\n      <td>21.5</td>\n    </tr>\n    <tr>\n      <th>3</th>\n      <td>male</td>\n      <td>1</td>\n      <td>40.0</td>\n    </tr>\n    <tr>\n      <th>4</th>\n      <td>male</td>\n      <td>2</td>\n      <td>30.0</td>\n    </tr>\n  </tbody>\n</table>\n</div>"
     },
     "metadata": {}
    }
   ]
  },
  {
   "cell_type": "markdown",
   "source": [
    "First we create a function that fills in the missing age based on Sex and Class."
   ],
   "metadata": {}
  },
  {
   "cell_type": "code",
   "source": [
    "def fill_age(row):\n",
    "    condition = (\n",
    "        (grouped_median_train['Sex'] == row['Sex']) & \n",
    "        (grouped_median_train['Pclass'] == row['Pclass'])\n",
    "    ) \n",
    "    return grouped_median_train[condition]['Age'].values[0]\n",
    "\n",
    "\n",
    "def process_age():\n",
    "    global combined\n",
    "    # a function that fills the missing values of the Age variable\n",
    "    combined['Age'] = combined.apply(lambda row: fill_age(row) if np.isnan(row['Age']) else row['Age'], axis=1)\n",
    "    return combined"
   ],
   "metadata": {
    "execution": {
     "iopub.status.busy": "2023-01-29T22:45:00.088027Z",
     "iopub.execute_input": "2023-01-29T22:45:00.088606Z",
     "iopub.status.idle": "2023-01-29T22:45:00.095705Z",
     "shell.execute_reply.started": "2023-01-29T22:45:00.088561Z",
     "shell.execute_reply": "2023-01-29T22:45:00.095039Z"
    },
    "trusted": true
   },
   "execution_count": 30,
   "outputs": []
  },
  {
   "cell_type": "code",
   "source": [
    "combined = process_age()\n",
    "combined.head()"
   ],
   "metadata": {
    "execution": {
     "iopub.status.busy": "2023-01-29T22:45:00.097083Z",
     "iopub.execute_input": "2023-01-29T22:45:00.098150Z",
     "iopub.status.idle": "2023-01-29T22:45:00.337726Z",
     "shell.execute_reply.started": "2023-01-29T22:45:00.098111Z",
     "shell.execute_reply": "2023-01-29T22:45:00.336910Z"
    },
    "trusted": true
   },
   "execution_count": 31,
   "outputs": [
    {
     "execution_count": 31,
     "output_type": "execute_result",
     "data": {
      "text/plain": "   Pclass     Sex   Age  SibSp  Parch\n0       3    male  22.0      1      0\n1       1  female  38.0      1      0\n2       3  female  26.0      0      0\n3       1  female  35.0      1      0\n4       3    male  35.0      0      0",
      "text/html": "<div>\n<style scoped>\n    .dataframe tbody tr th:only-of-type {\n        vertical-align: middle;\n    }\n\n    .dataframe tbody tr th {\n        vertical-align: top;\n    }\n\n    .dataframe thead th {\n        text-align: right;\n    }\n</style>\n<table border=\"1\" class=\"dataframe\">\n  <thead>\n    <tr style=\"text-align: right;\">\n      <th></th>\n      <th>Pclass</th>\n      <th>Sex</th>\n      <th>Age</th>\n      <th>SibSp</th>\n      <th>Parch</th>\n    </tr>\n  </thead>\n  <tbody>\n    <tr>\n      <th>0</th>\n      <td>3</td>\n      <td>male</td>\n      <td>22.0</td>\n      <td>1</td>\n      <td>0</td>\n    </tr>\n    <tr>\n      <th>1</th>\n      <td>1</td>\n      <td>female</td>\n      <td>38.0</td>\n      <td>1</td>\n      <td>0</td>\n    </tr>\n    <tr>\n      <th>2</th>\n      <td>3</td>\n      <td>female</td>\n      <td>26.0</td>\n      <td>0</td>\n      <td>0</td>\n    </tr>\n    <tr>\n      <th>3</th>\n      <td>1</td>\n      <td>female</td>\n      <td>35.0</td>\n      <td>1</td>\n      <td>0</td>\n    </tr>\n    <tr>\n      <th>4</th>\n      <td>3</td>\n      <td>male</td>\n      <td>35.0</td>\n      <td>0</td>\n      <td>0</td>\n    </tr>\n  </tbody>\n</table>\n</div>"
     },
     "metadata": {}
    }
   ]
  },
  {
   "cell_type": "markdown",
   "source": [
    "For modeling the effect that age has on the chance of survival of a passenger, we introduce a categorical variable \"AgeGroup\" with levels Child (0-12 y.o.), Teenager (13-19 y.o.), Adult(>= 20 y.o.)"
   ],
   "metadata": {}
  },
  {
   "cell_type": "code",
   "source": [
    "def process_age_group():\n",
    "    \n",
    "    global combined\n",
    "    combined['Child'] = combined['Age'].map(lambda s: 1 if s <= 12 else 0)\n",
    "    combined['Teenager'] = combined['Age'].map(lambda s: 1 if 13 <= s <= 19 else 0)\n",
    "    combined['Adult'] = combined['Age'].map(lambda s: 1 if s >= 20 else 0)\n",
    "    \n",
    "    # removing \"Age\"\n",
    "    combined.drop('Age',axis=1,inplace=True)\n",
    "    \n",
    "    return combined"
   ],
   "metadata": {
    "execution": {
     "iopub.status.busy": "2023-01-29T22:45:00.339138Z",
     "iopub.execute_input": "2023-01-29T22:45:00.339471Z",
     "iopub.status.idle": "2023-01-29T22:45:00.346665Z",
     "shell.execute_reply.started": "2023-01-29T22:45:00.339420Z",
     "shell.execute_reply": "2023-01-29T22:45:00.345450Z"
    },
    "trusted": true
   },
   "execution_count": 32,
   "outputs": []
  },
  {
   "cell_type": "code",
   "source": [
    "combined = process_age_group()\n",
    "combined.head()"
   ],
   "metadata": {
    "execution": {
     "iopub.status.busy": "2023-01-29T22:45:00.348449Z",
     "iopub.execute_input": "2023-01-29T22:45:00.348767Z",
     "iopub.status.idle": "2023-01-29T22:45:00.373950Z",
     "shell.execute_reply.started": "2023-01-29T22:45:00.348734Z",
     "shell.execute_reply": "2023-01-29T22:45:00.372937Z"
    },
    "trusted": true
   },
   "execution_count": 33,
   "outputs": [
    {
     "execution_count": 33,
     "output_type": "execute_result",
     "data": {
      "text/plain": "   Pclass     Sex  SibSp  Parch  Child  Teenager  Adult\n0       3    male      1      0      0         0      1\n1       1  female      1      0      0         0      1\n2       3  female      0      0      0         0      1\n3       1  female      1      0      0         0      1\n4       3    male      0      0      0         0      1",
      "text/html": "<div>\n<style scoped>\n    .dataframe tbody tr th:only-of-type {\n        vertical-align: middle;\n    }\n\n    .dataframe tbody tr th {\n        vertical-align: top;\n    }\n\n    .dataframe thead th {\n        text-align: right;\n    }\n</style>\n<table border=\"1\" class=\"dataframe\">\n  <thead>\n    <tr style=\"text-align: right;\">\n      <th></th>\n      <th>Pclass</th>\n      <th>Sex</th>\n      <th>SibSp</th>\n      <th>Parch</th>\n      <th>Child</th>\n      <th>Teenager</th>\n      <th>Adult</th>\n    </tr>\n  </thead>\n  <tbody>\n    <tr>\n      <th>0</th>\n      <td>3</td>\n      <td>male</td>\n      <td>1</td>\n      <td>0</td>\n      <td>0</td>\n      <td>0</td>\n      <td>1</td>\n    </tr>\n    <tr>\n      <th>1</th>\n      <td>1</td>\n      <td>female</td>\n      <td>1</td>\n      <td>0</td>\n      <td>0</td>\n      <td>0</td>\n      <td>1</td>\n    </tr>\n    <tr>\n      <th>2</th>\n      <td>3</td>\n      <td>female</td>\n      <td>0</td>\n      <td>0</td>\n      <td>0</td>\n      <td>0</td>\n      <td>1</td>\n    </tr>\n    <tr>\n      <th>3</th>\n      <td>1</td>\n      <td>female</td>\n      <td>1</td>\n      <td>0</td>\n      <td>0</td>\n      <td>0</td>\n      <td>1</td>\n    </tr>\n    <tr>\n      <th>4</th>\n      <td>3</td>\n      <td>male</td>\n      <td>0</td>\n      <td>0</td>\n      <td>0</td>\n      <td>0</td>\n      <td>1</td>\n    </tr>\n  </tbody>\n</table>\n</div>"
     },
     "metadata": {}
    }
   ]
  },
  {
   "cell_type": "markdown",
   "source": [
    "### Sex variable\n",
    "This function maps the string values male and female to 1 and 0 respectively."
   ],
   "metadata": {}
  },
  {
   "cell_type": "code",
   "source": [
    "def process_sex():\n",
    "    global combined\n",
    "    # mapping string values to numerical one \n",
    "    combined['Sex'] = combined['Sex'].map({'male':1, 'female':0})\n",
    "    \n",
    "    return combined"
   ],
   "metadata": {
    "execution": {
     "iopub.status.busy": "2023-01-29T22:45:00.375229Z",
     "iopub.execute_input": "2023-01-29T22:45:00.375472Z",
     "iopub.status.idle": "2023-01-29T22:45:00.380317Z",
     "shell.execute_reply.started": "2023-01-29T22:45:00.375443Z",
     "shell.execute_reply": "2023-01-29T22:45:00.379433Z"
    },
    "trusted": true
   },
   "execution_count": 34,
   "outputs": []
  },
  {
   "cell_type": "code",
   "source": [
    "combined = process_sex()\n",
    "combined.head()"
   ],
   "metadata": {
    "execution": {
     "iopub.status.busy": "2023-01-29T22:45:00.381683Z",
     "iopub.execute_input": "2023-01-29T22:45:00.381954Z",
     "iopub.status.idle": "2023-01-29T22:45:00.398342Z",
     "shell.execute_reply.started": "2023-01-29T22:45:00.381903Z",
     "shell.execute_reply": "2023-01-29T22:45:00.397630Z"
    },
    "trusted": true
   },
   "execution_count": 35,
   "outputs": [
    {
     "execution_count": 35,
     "output_type": "execute_result",
     "data": {
      "text/plain": "   Pclass  Sex  SibSp  Parch  Child  Teenager  Adult\n0       3    1      1      0      0         0      1\n1       1    0      1      0      0         0      1\n2       3    0      0      0      0         0      1\n3       1    0      1      0      0         0      1\n4       3    1      0      0      0         0      1",
      "text/html": "<div>\n<style scoped>\n    .dataframe tbody tr th:only-of-type {\n        vertical-align: middle;\n    }\n\n    .dataframe tbody tr th {\n        vertical-align: top;\n    }\n\n    .dataframe thead th {\n        text-align: right;\n    }\n</style>\n<table border=\"1\" class=\"dataframe\">\n  <thead>\n    <tr style=\"text-align: right;\">\n      <th></th>\n      <th>Pclass</th>\n      <th>Sex</th>\n      <th>SibSp</th>\n      <th>Parch</th>\n      <th>Child</th>\n      <th>Teenager</th>\n      <th>Adult</th>\n    </tr>\n  </thead>\n  <tbody>\n    <tr>\n      <th>0</th>\n      <td>3</td>\n      <td>1</td>\n      <td>1</td>\n      <td>0</td>\n      <td>0</td>\n      <td>0</td>\n      <td>1</td>\n    </tr>\n    <tr>\n      <th>1</th>\n      <td>1</td>\n      <td>0</td>\n      <td>1</td>\n      <td>0</td>\n      <td>0</td>\n      <td>0</td>\n      <td>1</td>\n    </tr>\n    <tr>\n      <th>2</th>\n      <td>3</td>\n      <td>0</td>\n      <td>0</td>\n      <td>0</td>\n      <td>0</td>\n      <td>0</td>\n      <td>1</td>\n    </tr>\n    <tr>\n      <th>3</th>\n      <td>1</td>\n      <td>0</td>\n      <td>1</td>\n      <td>0</td>\n      <td>0</td>\n      <td>0</td>\n      <td>1</td>\n    </tr>\n    <tr>\n      <th>4</th>\n      <td>3</td>\n      <td>1</td>\n      <td>0</td>\n      <td>0</td>\n      <td>0</td>\n      <td>0</td>\n      <td>1</td>\n    </tr>\n  </tbody>\n</table>\n</div>"
     },
     "metadata": {}
    }
   ]
  },
  {
   "cell_type": "markdown",
   "source": [
    "### PClass variable\n",
    "This function encodes the values of Pclass (1,2,3) using a dummy encoding."
   ],
   "metadata": {}
  },
  {
   "cell_type": "code",
   "source": [
    "def process_pclass():\n",
    "    \n",
    "    global combined\n",
    "    # encoding into 3 categories:\n",
    "    pclass_dummies = pd.get_dummies(combined['Pclass'], prefix='Pclass')\n",
    "    \n",
    "    # adding dummy variable\n",
    "    combined = pd.concat([combined, pclass_dummies],axis=1)\n",
    "    \n",
    "    # removing \"Pclass\"\n",
    "    combined.drop('Pclass',axis=1,inplace=True)\n",
    "    \n",
    "    return combined"
   ],
   "metadata": {
    "execution": {
     "iopub.status.busy": "2023-01-29T22:45:00.399491Z",
     "iopub.execute_input": "2023-01-29T22:45:00.400246Z",
     "iopub.status.idle": "2023-01-29T22:45:00.408353Z",
     "shell.execute_reply.started": "2023-01-29T22:45:00.400212Z",
     "shell.execute_reply": "2023-01-29T22:45:00.407649Z"
    },
    "trusted": true
   },
   "execution_count": 36,
   "outputs": []
  },
  {
   "cell_type": "code",
   "source": [
    "combined = process_pclass()\n",
    "combined.head()"
   ],
   "metadata": {
    "execution": {
     "iopub.status.busy": "2023-01-29T22:45:00.409653Z",
     "iopub.execute_input": "2023-01-29T22:45:00.410222Z",
     "iopub.status.idle": "2023-01-29T22:45:00.430177Z",
     "shell.execute_reply.started": "2023-01-29T22:45:00.410178Z",
     "shell.execute_reply": "2023-01-29T22:45:00.429235Z"
    },
    "trusted": true
   },
   "execution_count": 37,
   "outputs": [
    {
     "execution_count": 37,
     "output_type": "execute_result",
     "data": {
      "text/plain": "   Sex  SibSp  Parch  Child  Teenager  Adult  Pclass_1  Pclass_2  Pclass_3\n0    1      1      0      0         0      1         0         0         1\n1    0      1      0      0         0      1         1         0         0\n2    0      0      0      0         0      1         0         0         1\n3    0      1      0      0         0      1         1         0         0\n4    1      0      0      0         0      1         0         0         1",
      "text/html": "<div>\n<style scoped>\n    .dataframe tbody tr th:only-of-type {\n        vertical-align: middle;\n    }\n\n    .dataframe tbody tr th {\n        vertical-align: top;\n    }\n\n    .dataframe thead th {\n        text-align: right;\n    }\n</style>\n<table border=\"1\" class=\"dataframe\">\n  <thead>\n    <tr style=\"text-align: right;\">\n      <th></th>\n      <th>Sex</th>\n      <th>SibSp</th>\n      <th>Parch</th>\n      <th>Child</th>\n      <th>Teenager</th>\n      <th>Adult</th>\n      <th>Pclass_1</th>\n      <th>Pclass_2</th>\n      <th>Pclass_3</th>\n    </tr>\n  </thead>\n  <tbody>\n    <tr>\n      <th>0</th>\n      <td>1</td>\n      <td>1</td>\n      <td>0</td>\n      <td>0</td>\n      <td>0</td>\n      <td>1</td>\n      <td>0</td>\n      <td>0</td>\n      <td>1</td>\n    </tr>\n    <tr>\n      <th>1</th>\n      <td>0</td>\n      <td>1</td>\n      <td>0</td>\n      <td>0</td>\n      <td>0</td>\n      <td>1</td>\n      <td>1</td>\n      <td>0</td>\n      <td>0</td>\n    </tr>\n    <tr>\n      <th>2</th>\n      <td>0</td>\n      <td>0</td>\n      <td>0</td>\n      <td>0</td>\n      <td>0</td>\n      <td>1</td>\n      <td>0</td>\n      <td>0</td>\n      <td>1</td>\n    </tr>\n    <tr>\n      <th>3</th>\n      <td>0</td>\n      <td>1</td>\n      <td>0</td>\n      <td>0</td>\n      <td>0</td>\n      <td>1</td>\n      <td>1</td>\n      <td>0</td>\n      <td>0</td>\n    </tr>\n    <tr>\n      <th>4</th>\n      <td>1</td>\n      <td>0</td>\n      <td>0</td>\n      <td>0</td>\n      <td>0</td>\n      <td>1</td>\n      <td>0</td>\n      <td>0</td>\n      <td>1</td>\n    </tr>\n  </tbody>\n</table>\n</div>"
     },
     "metadata": {}
    }
   ]
  },
  {
   "cell_type": "markdown",
   "source": [
    "### Family variable"
   ],
   "metadata": {}
  },
  {
   "cell_type": "code",
   "source": [
    "def process_family():\n",
    "    \n",
    "    global combined\n",
    "    # introducing a new feature : the size of families (including the passenger)\n",
    "    combined['FamilySize'] = combined['Parch'] + combined['SibSp'] + 1\n",
    "    \n",
    "    # introducing other features based on the family size\n",
    "    combined['Singleton'] = combined['FamilySize'].map(lambda s: 1 if s == 1 else 0)\n",
    "    combined['SmallFamily'] = combined['FamilySize'].map(lambda s: 1 if 2 <= s <= 4 else 0)\n",
    "    combined['LargeFamily'] = combined['FamilySize'].map(lambda s: 1 if 5 <= s else 0)\n",
    "    \n",
    "    # removing Parch and SibSp\n",
    "    combined.drop('Parch',axis=1,inplace=True)\n",
    "    combined.drop('SibSp',axis=1,inplace=True)\n",
    "    combined.drop('FamilySize',axis=1,inplace=True)\n",
    "    \n",
    "    return combined"
   ],
   "metadata": {
    "execution": {
     "iopub.status.busy": "2023-01-29T22:45:00.431738Z",
     "iopub.execute_input": "2023-01-29T22:45:00.432067Z",
     "iopub.status.idle": "2023-01-29T22:45:00.441603Z",
     "shell.execute_reply.started": "2023-01-29T22:45:00.432024Z",
     "shell.execute_reply": "2023-01-29T22:45:00.440730Z"
    },
    "trusted": true
   },
   "execution_count": 38,
   "outputs": []
  },
  {
   "cell_type": "markdown",
   "source": [
    "This function introduces 4 new features:\n",
    "- FamilySize : the total number of relatives including the passenger (him/her)self.\n",
    "- Sigleton : a boolean variable that describes families of size = 1\n",
    "- SmallFamily : a boolean variable that describes families of 2 <= size <= 4\n",
    "- LargeFamily : a boolean variable that describes families of size > 5"
   ],
   "metadata": {}
  },
  {
   "cell_type": "code",
   "source": [
    "combined = process_family()\n",
    "combined.head()"
   ],
   "metadata": {
    "execution": {
     "iopub.status.busy": "2023-01-29T22:45:00.443549Z",
     "iopub.execute_input": "2023-01-29T22:45:00.444141Z",
     "iopub.status.idle": "2023-01-29T22:45:00.467827Z",
     "shell.execute_reply.started": "2023-01-29T22:45:00.444094Z",
     "shell.execute_reply": "2023-01-29T22:45:00.466992Z"
    },
    "trusted": true
   },
   "execution_count": 39,
   "outputs": [
    {
     "execution_count": 39,
     "output_type": "execute_result",
     "data": {
      "text/plain": "   Sex  Child  Teenager  Adult  Pclass_1  Pclass_2  Pclass_3  Singleton  \\\n0    1      0         0      1         0         0         1          0   \n1    0      0         0      1         1         0         0          0   \n2    0      0         0      1         0         0         1          1   \n3    0      0         0      1         1         0         0          0   \n4    1      0         0      1         0         0         1          1   \n\n   SmallFamily  LargeFamily  \n0            1            0  \n1            1            0  \n2            0            0  \n3            1            0  \n4            0            0  ",
      "text/html": "<div>\n<style scoped>\n    .dataframe tbody tr th:only-of-type {\n        vertical-align: middle;\n    }\n\n    .dataframe tbody tr th {\n        vertical-align: top;\n    }\n\n    .dataframe thead th {\n        text-align: right;\n    }\n</style>\n<table border=\"1\" class=\"dataframe\">\n  <thead>\n    <tr style=\"text-align: right;\">\n      <th></th>\n      <th>Sex</th>\n      <th>Child</th>\n      <th>Teenager</th>\n      <th>Adult</th>\n      <th>Pclass_1</th>\n      <th>Pclass_2</th>\n      <th>Pclass_3</th>\n      <th>Singleton</th>\n      <th>SmallFamily</th>\n      <th>LargeFamily</th>\n    </tr>\n  </thead>\n  <tbody>\n    <tr>\n      <th>0</th>\n      <td>1</td>\n      <td>0</td>\n      <td>0</td>\n      <td>1</td>\n      <td>0</td>\n      <td>0</td>\n      <td>1</td>\n      <td>0</td>\n      <td>1</td>\n      <td>0</td>\n    </tr>\n    <tr>\n      <th>1</th>\n      <td>0</td>\n      <td>0</td>\n      <td>0</td>\n      <td>1</td>\n      <td>1</td>\n      <td>0</td>\n      <td>0</td>\n      <td>0</td>\n      <td>1</td>\n      <td>0</td>\n    </tr>\n    <tr>\n      <th>2</th>\n      <td>0</td>\n      <td>0</td>\n      <td>0</td>\n      <td>1</td>\n      <td>0</td>\n      <td>0</td>\n      <td>1</td>\n      <td>1</td>\n      <td>0</td>\n      <td>0</td>\n    </tr>\n    <tr>\n      <th>3</th>\n      <td>0</td>\n      <td>0</td>\n      <td>0</td>\n      <td>1</td>\n      <td>1</td>\n      <td>0</td>\n      <td>0</td>\n      <td>0</td>\n      <td>1</td>\n      <td>0</td>\n    </tr>\n    <tr>\n      <th>4</th>\n      <td>1</td>\n      <td>0</td>\n      <td>0</td>\n      <td>1</td>\n      <td>0</td>\n      <td>0</td>\n      <td>1</td>\n      <td>1</td>\n      <td>0</td>\n      <td>0</td>\n    </tr>\n  </tbody>\n</table>\n</div>"
     },
     "metadata": {}
    }
   ]
  },
  {
   "cell_type": "markdown",
   "source": [
    "## Classification: logistic regression"
   ],
   "metadata": {
    "tags": []
   }
  },
  {
   "cell_type": "code",
   "source": [
    "from sklearn.linear_model import LogisticRegression"
   ],
   "metadata": {
    "execution": {
     "iopub.status.busy": "2023-01-29T22:45:00.469258Z",
     "iopub.execute_input": "2023-01-29T22:45:00.469494Z",
     "iopub.status.idle": "2023-01-29T22:45:00.611765Z",
     "shell.execute_reply.started": "2023-01-29T22:45:00.469466Z",
     "shell.execute_reply": "2023-01-29T22:45:00.610632Z"
    },
    "trusted": true
   },
   "execution_count": 40,
   "outputs": []
  },
  {
   "cell_type": "code",
   "source": [
    "def recover_train_test_target():\n",
    "    global combined\n",
    "    \n",
    "    targets = pd.read_csv('../input/titanic/train.csv', usecols=['Survived'])['Survived'].values\n",
    "    train = combined.iloc[:891]\n",
    "    test = combined.iloc[891:]\n",
    "    \n",
    "    return train, test, targets\n",
    "\n",
    "train, test, targets = recover_train_test_target()"
   ],
   "metadata": {
    "execution": {
     "iopub.status.busy": "2023-01-29T22:45:00.613032Z",
     "iopub.execute_input": "2023-01-29T22:45:00.613307Z",
     "iopub.status.idle": "2023-01-29T22:45:00.623948Z",
     "shell.execute_reply.started": "2023-01-29T22:45:00.613272Z",
     "shell.execute_reply": "2023-01-29T22:45:00.622885Z"
    },
    "trusted": true
   },
   "execution_count": 41,
   "outputs": []
  },
  {
   "cell_type": "code",
   "source": [
    "clf = LogisticRegression(solver='liblinear')\n",
    "clf = clf.fit(train, targets)"
   ],
   "metadata": {
    "execution": {
     "iopub.status.busy": "2023-01-29T22:45:00.625737Z",
     "iopub.execute_input": "2023-01-29T22:45:00.626093Z",
     "iopub.status.idle": "2023-01-29T22:45:00.640398Z",
     "shell.execute_reply.started": "2023-01-29T22:45:00.626048Z",
     "shell.execute_reply": "2023-01-29T22:45:00.639425Z"
    },
    "trusted": true
   },
   "execution_count": 42,
   "outputs": []
  },
  {
   "cell_type": "code",
   "source": [
    "output = clf.predict(test).astype(int)\n",
    "df_output = pd.DataFrame()\n",
    "aux = pd.read_csv('../input/titanic/test.csv')\n",
    "df_output['PassengerId'] = aux['PassengerId']\n",
    "df_output['Survived'] = output\n",
    "df_output[['PassengerId','Survived']].to_csv('submission.csv', index=False)"
   ],
   "metadata": {
    "execution": {
     "iopub.status.busy": "2023-01-29T22:45:37.332953Z",
     "iopub.execute_input": "2023-01-29T22:45:37.333260Z",
     "iopub.status.idle": "2023-01-29T22:45:37.352834Z",
     "shell.execute_reply.started": "2023-01-29T22:45:37.333229Z",
     "shell.execute_reply": "2023-01-29T22:45:37.351621Z"
    },
    "trusted": true
   },
   "execution_count": 45,
   "outputs": []
  },
  {
   "cell_type": "code",
   "source": [
    "print(df_output)"
   ],
   "metadata": {
    "execution": {
     "iopub.status.busy": "2023-01-29T22:45:40.029153Z",
     "iopub.execute_input": "2023-01-29T22:45:40.029466Z",
     "iopub.status.idle": "2023-01-29T22:45:40.038509Z",
     "shell.execute_reply.started": "2023-01-29T22:45:40.029429Z",
     "shell.execute_reply": "2023-01-29T22:45:40.037654Z"
    },
    "trusted": true
   },
   "execution_count": 46,
   "outputs": [
    {
     "name": "stdout",
     "text": "     PassengerId  Survived\n0            892         0\n1            893         1\n2            894         0\n3            895         0\n4            896         1\n..           ...       ...\n413         1305         0\n414         1306         1\n415         1307         0\n416         1308         0\n417         1309         0\n\n[418 rows x 2 columns]\n",
     "output_type": "stream"
    }
   ]
  },
  {
   "cell_type": "markdown",
   "source": [
    "Now the predictions contained in the file logReg.csv can be submitted to the competition!"
   ],
   "metadata": {}
  }
 ]
}
